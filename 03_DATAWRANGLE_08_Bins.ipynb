{
  "cells": [
    {
      "cell_type": "markdown",
      "metadata": {
        "id": "view-in-github",
        "colab_type": "text"
      },
      "source": [
        "<a href=\"https://colab.research.google.com/github/smdr111/data_preparation/blob/main/03_DATAWRANGLE_08_Bins.ipynb\" target=\"_parent\"><img src=\"https://colab.research.google.com/assets/colab-badge.svg\" alt=\"Open In Colab\"/></a>"
      ]
    },
    {
      "cell_type": "markdown",
      "id": "6810fc24-82dd-44f8-a78c-81fce8171cc5",
      "metadata": {
        "id": "6810fc24-82dd-44f8-a78c-81fce8171cc5"
      },
      "source": [
        "![Imgur](https://i.imgur.com/5pXzCIu.png)\n",
        "\n",
        "# Data Science va Sun'iy Intellekt Praktikum\n",
        "\n",
        "## 3-MODUL. MA’LUMOTLARGA ISHLOV BERISH\n",
        "\n",
        "### 3.2 Ma'lumotlarni tozalash va tayyorlash\n",
        "\n",
        "## Guruhlash\n",
        "Guruhlashning vazifasi ma'lumotlarni tahlil qilish uchun biror ustun qiymatlarini berilgan oraliqlarga (guruhlarga) tushurib olish.\n",
        "\n",
        "Misol uchun, sizda foydalanuvchilar haqida ma'lumotlar jamlangan va u yerda har bir foydalanuvchining yoshi ham ko'rsatilgan. Siz foydalanuvchilarni qaysi yosh oralig'ida ekanini (qaysi guruhga tegishli ekanini) ko'rmoqchisiz:\n",
        "\n",
        "![](https://www.researchgate.net/profile/Gemma-Burgess-5/publication/299603937/figure/fig1/AS:347169551863808@1459783079654/The-age-ranges-of-survey-respondents.png)\n",
        "\n",
        "Yuqoridagi kabi natijani olish uchun biz foydalanauvchilarni yosihga qarab ma'lum oraliqqa joylashimiz kerak, `pandas` bu jarayonni bir muncha osonlashtiradi."
      ]
    },
    {
      "cell_type": "code",
      "execution_count": null,
      "id": "f603adf1-b766-4280-a167-24d24d79000e",
      "metadata": {
        "id": "f603adf1-b766-4280-a167-24d24d79000e"
      },
      "outputs": [],
      "source": [
        "import pandas as pd"
      ]
    },
    {
      "cell_type": "code",
      "execution_count": null,
      "id": "21dd7c56-4d36-46a0-9e7e-4f49e8cc356b",
      "metadata": {
        "id": "21dd7c56-4d36-46a0-9e7e-4f49e8cc356b",
        "outputId": "3ccad54a-652c-4d8d-b4e1-fcb3e6e3c0b5"
      },
      "outputs": [
        {
          "data": {
            "text/html": [
              "<div>\n",
              "<style scoped>\n",
              "    .dataframe tbody tr th:only-of-type {\n",
              "        vertical-align: middle;\n",
              "    }\n",
              "\n",
              "    .dataframe tbody tr th {\n",
              "        vertical-align: top;\n",
              "    }\n",
              "\n",
              "    .dataframe thead th {\n",
              "        text-align: right;\n",
              "    }\n",
              "</style>\n",
              "<table border=\"1\" class=\"dataframe\">\n",
              "  <thead>\n",
              "    <tr style=\"text-align: right;\">\n",
              "      <th></th>\n",
              "      <th>pop2021</th>\n",
              "      <th>area</th>\n",
              "    </tr>\n",
              "    <tr>\n",
              "      <th>country</th>\n",
              "      <th></th>\n",
              "      <th></th>\n",
              "    </tr>\n",
              "  </thead>\n",
              "  <tbody>\n",
              "    <tr>\n",
              "      <th>Macau</th>\n",
              "      <td>658.394</td>\n",
              "      <td>30</td>\n",
              "    </tr>\n",
              "    <tr>\n",
              "      <th>Monaco</th>\n",
              "      <td>39.511</td>\n",
              "      <td>2</td>\n",
              "    </tr>\n",
              "    <tr>\n",
              "      <th>Burundi</th>\n",
              "      <td>12255.433</td>\n",
              "      <td>27834</td>\n",
              "    </tr>\n",
              "    <tr>\n",
              "      <th>Macau</th>\n",
              "      <td>658.394</td>\n",
              "      <td>30</td>\n",
              "    </tr>\n",
              "    <tr>\n",
              "      <th>Monaco</th>\n",
              "      <td>39.511</td>\n",
              "      <td>2</td>\n",
              "    </tr>\n",
              "  </tbody>\n",
              "</table>\n",
              "</div>"
            ],
            "text/plain": [
              "           pop2021   area\n",
              "country                  \n",
              "Macau      658.394     30\n",
              "Monaco      39.511      2\n",
              "Burundi  12255.433  27834\n",
              "Macau      658.394     30\n",
              "Monaco      39.511      2"
            ]
          },
          "execution_count": 2,
          "metadata": {},
          "output_type": "execute_result"
        }
      ],
      "source": [
        "df = pd.read_csv('https://raw.githubusercontent.com/anvarnarz/praktikum_datasets/main/world_population_duplicates.csv', usecols=['country','pop2021','area'], index_col='country')\n",
        "df.head()"
      ]
    },
    {
      "cell_type": "markdown",
      "id": "06875a20-8fea-47cf-9878-880b89c2b8c9",
      "metadata": {
        "id": "06875a20-8fea-47cf-9878-880b89c2b8c9"
      },
      "source": [
        "Takrorlanishlarni o'chirib yuboramiz:"
      ]
    },
    {
      "cell_type": "code",
      "execution_count": null,
      "id": "d6b3b9e5-a6fe-41b8-bebe-e1b50e0619a8",
      "metadata": {
        "id": "d6b3b9e5-a6fe-41b8-bebe-e1b50e0619a8"
      },
      "outputs": [],
      "source": [
        "df.drop_duplicates(inplace=True)"
      ]
    },
    {
      "cell_type": "code",
      "execution_count": null,
      "id": "b2da8610-2c77-4737-8fb1-465e3bcc5385",
      "metadata": {
        "id": "b2da8610-2c77-4737-8fb1-465e3bcc5385",
        "outputId": "6211eb17-fdb3-4174-ce16-51dcae96e3ec"
      },
      "outputs": [
        {
          "data": {
            "text/html": [
              "<div>\n",
              "<style scoped>\n",
              "    .dataframe tbody tr th:only-of-type {\n",
              "        vertical-align: middle;\n",
              "    }\n",
              "\n",
              "    .dataframe tbody tr th {\n",
              "        vertical-align: top;\n",
              "    }\n",
              "\n",
              "    .dataframe thead th {\n",
              "        text-align: right;\n",
              "    }\n",
              "</style>\n",
              "<table border=\"1\" class=\"dataframe\">\n",
              "  <thead>\n",
              "    <tr style=\"text-align: right;\">\n",
              "      <th></th>\n",
              "      <th>pop2021</th>\n",
              "      <th>area</th>\n",
              "    </tr>\n",
              "    <tr>\n",
              "      <th>country</th>\n",
              "      <th></th>\n",
              "      <th></th>\n",
              "    </tr>\n",
              "  </thead>\n",
              "  <tbody>\n",
              "    <tr>\n",
              "      <th>Macau</th>\n",
              "      <td>658.394</td>\n",
              "      <td>30</td>\n",
              "    </tr>\n",
              "    <tr>\n",
              "      <th>Monaco</th>\n",
              "      <td>39.511</td>\n",
              "      <td>2</td>\n",
              "    </tr>\n",
              "    <tr>\n",
              "      <th>Burundi</th>\n",
              "      <td>12255.433</td>\n",
              "      <td>27834</td>\n",
              "    </tr>\n",
              "    <tr>\n",
              "      <th>Singapore</th>\n",
              "      <td>5896.686</td>\n",
              "      <td>710</td>\n",
              "    </tr>\n",
              "    <tr>\n",
              "      <th>Hong Kong</th>\n",
              "      <td>7552.810</td>\n",
              "      <td>1104</td>\n",
              "    </tr>\n",
              "  </tbody>\n",
              "</table>\n",
              "</div>"
            ],
            "text/plain": [
              "             pop2021   area\n",
              "country                    \n",
              "Macau        658.394     30\n",
              "Monaco        39.511      2\n",
              "Burundi    12255.433  27834\n",
              "Singapore   5896.686    710\n",
              "Hong Kong   7552.810   1104"
            ]
          },
          "execution_count": 4,
          "metadata": {},
          "output_type": "execute_result"
        }
      ],
      "source": [
        "df.head()"
      ]
    },
    {
      "cell_type": "markdown",
      "id": "e32b82c7-e814-473b-8066-5e11af380f40",
      "metadata": {
        "id": "e32b82c7-e814-473b-8066-5e11af380f40"
      },
      "source": [
        "Tartiblab olamiz:"
      ]
    },
    {
      "cell_type": "code",
      "execution_count": null,
      "id": "1667d81e-026c-4848-868b-e5fc4fde8356",
      "metadata": {
        "id": "1667d81e-026c-4848-868b-e5fc4fde8356"
      },
      "outputs": [],
      "source": [
        "df.sort_index(inplace=True)"
      ]
    },
    {
      "cell_type": "code",
      "execution_count": null,
      "id": "ca0fd5c6-acca-446b-b1af-b4bc2517e498",
      "metadata": {
        "id": "ca0fd5c6-acca-446b-b1af-b4bc2517e498",
        "outputId": "a45b6d99-7511-40ed-ad4b-d49e269f80bb"
      },
      "outputs": [
        {
          "data": {
            "text/html": [
              "<div>\n",
              "<style scoped>\n",
              "    .dataframe tbody tr th:only-of-type {\n",
              "        vertical-align: middle;\n",
              "    }\n",
              "\n",
              "    .dataframe tbody tr th {\n",
              "        vertical-align: top;\n",
              "    }\n",
              "\n",
              "    .dataframe thead th {\n",
              "        text-align: right;\n",
              "    }\n",
              "</style>\n",
              "<table border=\"1\" class=\"dataframe\">\n",
              "  <thead>\n",
              "    <tr style=\"text-align: right;\">\n",
              "      <th></th>\n",
              "      <th>pop2021</th>\n",
              "      <th>area</th>\n",
              "    </tr>\n",
              "    <tr>\n",
              "      <th>country</th>\n",
              "      <th></th>\n",
              "      <th></th>\n",
              "    </tr>\n",
              "  </thead>\n",
              "  <tbody>\n",
              "    <tr>\n",
              "      <th>Afghanistan</th>\n",
              "      <td>39835.428</td>\n",
              "      <td>652230</td>\n",
              "    </tr>\n",
              "    <tr>\n",
              "      <th>Albania</th>\n",
              "      <td>2872.933</td>\n",
              "      <td>28748</td>\n",
              "    </tr>\n",
              "    <tr>\n",
              "      <th>Algeria</th>\n",
              "      <td>44616.624</td>\n",
              "      <td>2381741</td>\n",
              "    </tr>\n",
              "    <tr>\n",
              "      <th>American Samoa</th>\n",
              "      <td>55.100</td>\n",
              "      <td>199</td>\n",
              "    </tr>\n",
              "    <tr>\n",
              "      <th>Andorra</th>\n",
              "      <td>77.355</td>\n",
              "      <td>468</td>\n",
              "    </tr>\n",
              "  </tbody>\n",
              "</table>\n",
              "</div>"
            ],
            "text/plain": [
              "                  pop2021     area\n",
              "country                           \n",
              "Afghanistan     39835.428   652230\n",
              "Albania          2872.933    28748\n",
              "Algeria         44616.624  2381741\n",
              "American Samoa     55.100      199\n",
              "Andorra            77.355      468"
            ]
          },
          "execution_count": 6,
          "metadata": {},
          "output_type": "execute_result"
        }
      ],
      "source": [
        "df.head()"
      ]
    },
    {
      "cell_type": "markdown",
      "id": "1f7d6f35-11e2-4e23-8909-45577cac57dc",
      "metadata": {
        "id": "1f7d6f35-11e2-4e23-8909-45577cac57dc"
      },
      "source": [
        "Keling ba'zi davlatlar aholisini ham chiqarib ko'ramiz:"
      ]
    },
    {
      "cell_type": "code",
      "execution_count": null,
      "id": "29f5164d-f266-4b40-aff9-6ca561960ac4",
      "metadata": {
        "id": "29f5164d-f266-4b40-aff9-6ca561960ac4",
        "outputId": "1ef2c0c0-a1f6-4bc9-927c-811234adfbfb"
      },
      "outputs": [
        {
          "data": {
            "text/plain": [
              "pop2021    1444216.107\n",
              "area       9706961.000\n",
              "Name: China, dtype: float64"
            ]
          },
          "execution_count": 7,
          "metadata": {},
          "output_type": "execute_result"
        }
      ],
      "source": [
        "df.loc['China']"
      ]
    },
    {
      "cell_type": "code",
      "execution_count": null,
      "id": "7aacd5b1-9998-4ce6-96fc-ab8dc3bdd601",
      "metadata": {
        "id": "7aacd5b1-9998-4ce6-96fc-ab8dc3bdd601",
        "outputId": "018f3722-ad96-4673-9a72-6083ebdb2bc4"
      },
      "outputs": [
        {
          "data": {
            "text/plain": [
              "pop2021     33935.763\n",
              "area       447400.000\n",
              "Name: Uzbekistan, dtype: float64"
            ]
          },
          "execution_count": 8,
          "metadata": {},
          "output_type": "execute_result"
        }
      ],
      "source": [
        "df.loc['Uzbekistan']"
      ]
    },
    {
      "cell_type": "markdown",
      "id": "12331d05-0247-40c6-b89f-8fd0ff9bbca0",
      "metadata": {
        "id": "12331d05-0247-40c6-b89f-8fd0ff9bbca0"
      },
      "source": [
        "Ahamiyat bering, aholi soni minglarda berilgan, bu degani aniq qiymatni topish uchun ko'rsatilgan qiymatni `1000` ga ko'paytirasiz. Ya'ni, O'zbekiston aholisi `33935` ko'rsatilgan, demak aholi soni `33935x1000=33milloin 935ming`"
      ]
    },
    {
      "cell_type": "markdown",
      "id": "59863b5e-d4b2-4d59-be45-772e23be497d",
      "metadata": {
        "id": "59863b5e-d4b2-4d59-be45-772e23be497d"
      },
      "source": [
        "Keling, quyidagi oraliqlarda nechtadan davlat borligini tahlil qilamiz:\n",
        "- 1 milliongacha (`0-1000`)\n",
        "- 1-10mln oraqlida (`1000-10000`)\n",
        "- 10-30mln oraliqda (`10000-30000`)\n",
        "- 30-50mln oraliqda (`30000-50000`)\n",
        "- 50-100mln (`50000-10000`)\n",
        "- 100-300mln (`100000-300000`)\n",
        "- 300mln-1.5mlrd (`300000-1500000`)\n",
        "\n",
        "Buning uchun quydagi bin (nuqtalarni) yaratib olamiz:"
      ]
    },
    {
      "cell_type": "code",
      "execution_count": null,
      "id": "772197b8-0199-491e-9b9f-148eb772c119",
      "metadata": {
        "id": "772197b8-0199-491e-9b9f-148eb772c119"
      },
      "outputs": [],
      "source": [
        "bins = [0, 1000, 10000, 30000, 50000, 100000, 300000, 1500000]"
      ]
    },
    {
      "cell_type": "markdown",
      "id": "76978f2d-1da4-4767-a325-977c57f05416",
      "metadata": {
        "id": "76978f2d-1da4-4767-a325-977c57f05416"
      },
      "source": [
        "Aholi sonini ham alohida ajratib olamiz:"
      ]
    },
    {
      "cell_type": "code",
      "execution_count": null,
      "id": "75ac96e4-50c7-4fe9-ac62-9a2c5ab60ecd",
      "metadata": {
        "id": "75ac96e4-50c7-4fe9-ac62-9a2c5ab60ecd"
      },
      "outputs": [],
      "source": [
        "population = df.pop2021"
      ]
    },
    {
      "cell_type": "code",
      "execution_count": null,
      "id": "56bc4e4c-1fb5-4e90-9439-77a7ba9ae802",
      "metadata": {
        "id": "56bc4e4c-1fb5-4e90-9439-77a7ba9ae802",
        "outputId": "ccf86240-5339-4399-e2c6-dc1243d97a09"
      },
      "outputs": [
        {
          "data": {
            "text/plain": [
              "country\n",
              "Afghanistan       39835.428\n",
              "Albania            2872.933\n",
              "Algeria           44616.624\n",
              "American Samoa       55.100\n",
              "Andorra              77.355\n",
              "Name: pop2021, dtype: float64"
            ]
          },
          "execution_count": 11,
          "metadata": {},
          "output_type": "execute_result"
        }
      ],
      "source": [
        "population.head()"
      ]
    },
    {
      "cell_type": "markdown",
      "id": "4992ee00-fbff-4649-bdd3-7e625dbba124",
      "metadata": {
        "id": "4992ee00-fbff-4649-bdd3-7e625dbba124"
      },
      "source": [
        "`population` va `bins` ni jamlaymiz:"
      ]
    },
    {
      "cell_type": "code",
      "execution_count": null,
      "id": "6dc14ba5-1b66-41c9-933f-82db09865e85",
      "metadata": {
        "id": "6dc14ba5-1b66-41c9-933f-82db09865e85"
      },
      "outputs": [],
      "source": [
        "oraliq = pd.cut(population,bins)"
      ]
    },
    {
      "cell_type": "code",
      "execution_count": null,
      "id": "cc91e0d3-866d-4ee7-842f-fe10abdd3366",
      "metadata": {
        "id": "cc91e0d3-866d-4ee7-842f-fe10abdd3366",
        "outputId": "ccc374fc-0f18-44d6-f416-6d792d84e99c"
      },
      "outputs": [
        {
          "data": {
            "text/plain": [
              "country\n",
              "Afghanistan          (30000, 50000]\n",
              "Albania               (1000, 10000]\n",
              "Algeria              (30000, 50000]\n",
              "American Samoa            (0, 1000]\n",
              "Andorra                   (0, 1000]\n",
              "                          ...      \n",
              "Wallis and Futuna         (0, 1000]\n",
              "Western Sahara            (0, 1000]\n",
              "Yemen                (30000, 50000]\n",
              "Zambia               (10000, 30000]\n",
              "Zimbabwe             (10000, 30000]\n",
              "Name: pop2021, Length: 232, dtype: category\n",
              "Categories (7, interval[int64]): [(0, 1000] < (1000, 10000] < (10000, 30000] < (30000, 50000] < (50000, 100000] < (100000, 300000] < (300000, 1500000]]"
            ]
          },
          "execution_count": 13,
          "metadata": {},
          "output_type": "execute_result"
        }
      ],
      "source": [
        "oraliq"
      ]
    },
    {
      "cell_type": "markdown",
      "id": "5abcbd9f-634a-43b4-915c-c71d9d715b13",
      "metadata": {
        "id": "5abcbd9f-634a-43b4-915c-c71d9d715b13"
      },
      "source": [
        "Ko'rib turganingizdek, yangi o'zgaruvchi davlatlar qaysi oraliqqa tushishini ko'rsatayapti."
      ]
    },
    {
      "cell_type": "markdown",
      "id": "6d79e6ca-ff2c-4db7-b4a6-045078d3ecc2",
      "metadata": {
        "id": "6d79e6ca-ff2c-4db7-b4a6-045078d3ecc2"
      },
      "source": [
        "Oraliqlarni chiqarish uchun `.categories` parametriga murojaat qilamiz:"
      ]
    },
    {
      "cell_type": "markdown",
      "id": "d7afa999-0088-466b-a328-19a6583a5899",
      "metadata": {
        "id": "d7afa999-0088-466b-a328-19a6583a5899"
      },
      "source": [
        "Oraliqlardagi davlatlar sonini ko'rish uchun `.value_counts()` metodiga muorjaat qilamiz:"
      ]
    },
    {
      "cell_type": "code",
      "execution_count": null,
      "id": "ca331822-ce25-48ad-b70c-ce33fec93b59",
      "metadata": {
        "id": "ca331822-ce25-48ad-b70c-ce33fec93b59",
        "outputId": "b957f2a5-6c16-47d8-8ab5-ef6414a65371"
      },
      "outputs": [
        {
          "data": {
            "text/plain": [
              "(0, 1000]            72\n",
              "(1000, 10000]        68\n",
              "(10000, 30000]       44\n",
              "(30000, 50000]       19\n",
              "(50000, 100000]      15\n",
              "(100000, 300000]     11\n",
              "(300000, 1500000]     3\n",
              "Name: pop2021, dtype: int64"
            ]
          },
          "execution_count": 14,
          "metadata": {},
          "output_type": "execute_result"
        }
      ],
      "source": [
        "oraliq.value_counts()"
      ]
    },
    {
      "cell_type": "markdown",
      "id": "b030aa13-dca0-4e8a-a7f1-5e5af53fdfbe",
      "metadata": {
        "id": "b030aa13-dca0-4e8a-a7f1-5e5af53fdfbe"
      },
      "source": [
        "Istasangiz, `oraliq` obyektini `df` ga ham qo'shib qo'yishingiz mumkin:"
      ]
    },
    {
      "cell_type": "code",
      "execution_count": null,
      "id": "c2c72cb9-1d0b-4b08-8273-b71eb1dc7aae",
      "metadata": {
        "id": "c2c72cb9-1d0b-4b08-8273-b71eb1dc7aae"
      },
      "outputs": [],
      "source": [
        "df['popBins'] = oraliq"
      ]
    },
    {
      "cell_type": "code",
      "execution_count": null,
      "id": "1f9f9b22-f403-491a-ad7f-e14e93011878",
      "metadata": {
        "id": "1f9f9b22-f403-491a-ad7f-e14e93011878",
        "outputId": "d2718715-d301-4f27-c691-a68d6a2c7079"
      },
      "outputs": [
        {
          "data": {
            "text/html": [
              "<div>\n",
              "<style scoped>\n",
              "    .dataframe tbody tr th:only-of-type {\n",
              "        vertical-align: middle;\n",
              "    }\n",
              "\n",
              "    .dataframe tbody tr th {\n",
              "        vertical-align: top;\n",
              "    }\n",
              "\n",
              "    .dataframe thead th {\n",
              "        text-align: right;\n",
              "    }\n",
              "</style>\n",
              "<table border=\"1\" class=\"dataframe\">\n",
              "  <thead>\n",
              "    <tr style=\"text-align: right;\">\n",
              "      <th></th>\n",
              "      <th>pop2021</th>\n",
              "      <th>area</th>\n",
              "      <th>popBins</th>\n",
              "    </tr>\n",
              "    <tr>\n",
              "      <th>country</th>\n",
              "      <th></th>\n",
              "      <th></th>\n",
              "      <th></th>\n",
              "    </tr>\n",
              "  </thead>\n",
              "  <tbody>\n",
              "    <tr>\n",
              "      <th>Afghanistan</th>\n",
              "      <td>39835.428</td>\n",
              "      <td>652230</td>\n",
              "      <td>(30000, 50000]</td>\n",
              "    </tr>\n",
              "    <tr>\n",
              "      <th>Albania</th>\n",
              "      <td>2872.933</td>\n",
              "      <td>28748</td>\n",
              "      <td>(1000, 10000]</td>\n",
              "    </tr>\n",
              "    <tr>\n",
              "      <th>Algeria</th>\n",
              "      <td>44616.624</td>\n",
              "      <td>2381741</td>\n",
              "      <td>(30000, 50000]</td>\n",
              "    </tr>\n",
              "    <tr>\n",
              "      <th>American Samoa</th>\n",
              "      <td>55.100</td>\n",
              "      <td>199</td>\n",
              "      <td>(0, 1000]</td>\n",
              "    </tr>\n",
              "    <tr>\n",
              "      <th>Andorra</th>\n",
              "      <td>77.355</td>\n",
              "      <td>468</td>\n",
              "      <td>(0, 1000]</td>\n",
              "    </tr>\n",
              "  </tbody>\n",
              "</table>\n",
              "</div>"
            ],
            "text/plain": [
              "                  pop2021     area         popBins\n",
              "country                                           \n",
              "Afghanistan     39835.428   652230  (30000, 50000]\n",
              "Albania          2872.933    28748   (1000, 10000]\n",
              "Algeria         44616.624  2381741  (30000, 50000]\n",
              "American Samoa     55.100      199       (0, 1000]\n",
              "Andorra            77.355      468       (0, 1000]"
            ]
          },
          "execution_count": 16,
          "metadata": {},
          "output_type": "execute_result"
        }
      ],
      "source": [
        "df.head()"
      ]
    },
    {
      "cell_type": "markdown",
      "id": "7f2897c5-3832-41e2-867f-f3bc2dd8c28b",
      "metadata": {
        "id": "7f2897c5-3832-41e2-867f-f3bc2dd8c28b"
      },
      "source": [
        "Yana bir misol ko'ramiz:"
      ]
    },
    {
      "cell_type": "code",
      "execution_count": null,
      "id": "0861f910-3b37-43e4-a522-ab261dc632b8",
      "metadata": {
        "id": "0861f910-3b37-43e4-a522-ab261dc632b8",
        "outputId": "61be0374-aed9-40a5-f974-37b7bf954247"
      },
      "outputs": [
        {
          "data": {
            "text/html": [
              "<div>\n",
              "<style scoped>\n",
              "    .dataframe tbody tr th:only-of-type {\n",
              "        vertical-align: middle;\n",
              "    }\n",
              "\n",
              "    .dataframe tbody tr th {\n",
              "        vertical-align: top;\n",
              "    }\n",
              "\n",
              "    .dataframe thead th {\n",
              "        text-align: right;\n",
              "    }\n",
              "</style>\n",
              "<table border=\"1\" class=\"dataframe\">\n",
              "  <thead>\n",
              "    <tr style=\"text-align: right;\">\n",
              "      <th></th>\n",
              "      <th>company</th>\n",
              "      <th>body-style</th>\n",
              "      <th>wheel-base</th>\n",
              "      <th>length</th>\n",
              "      <th>engine-type</th>\n",
              "      <th>num-of-cylinders</th>\n",
              "      <th>horsepower</th>\n",
              "      <th>average-mileage</th>\n",
              "      <th>price</th>\n",
              "    </tr>\n",
              "    <tr>\n",
              "      <th>index</th>\n",
              "      <th></th>\n",
              "      <th></th>\n",
              "      <th></th>\n",
              "      <th></th>\n",
              "      <th></th>\n",
              "      <th></th>\n",
              "      <th></th>\n",
              "      <th></th>\n",
              "      <th></th>\n",
              "    </tr>\n",
              "  </thead>\n",
              "  <tbody>\n",
              "    <tr>\n",
              "      <th>0</th>\n",
              "      <td>alfa-romero</td>\n",
              "      <td>convertible</td>\n",
              "      <td>88.6</td>\n",
              "      <td>168.8</td>\n",
              "      <td>dohc</td>\n",
              "      <td>four</td>\n",
              "      <td>111</td>\n",
              "      <td>21</td>\n",
              "      <td>13495.0</td>\n",
              "    </tr>\n",
              "    <tr>\n",
              "      <th>1</th>\n",
              "      <td>alfa-romero</td>\n",
              "      <td>convertible</td>\n",
              "      <td>88.6</td>\n",
              "      <td>168.8</td>\n",
              "      <td>dohc</td>\n",
              "      <td>four</td>\n",
              "      <td>111</td>\n",
              "      <td>21</td>\n",
              "      <td>16500.0</td>\n",
              "    </tr>\n",
              "    <tr>\n",
              "      <th>2</th>\n",
              "      <td>alfa-romero</td>\n",
              "      <td>hatchback</td>\n",
              "      <td>94.5</td>\n",
              "      <td>171.2</td>\n",
              "      <td>ohcv</td>\n",
              "      <td>six</td>\n",
              "      <td>154</td>\n",
              "      <td>19</td>\n",
              "      <td>16500.0</td>\n",
              "    </tr>\n",
              "    <tr>\n",
              "      <th>3</th>\n",
              "      <td>audi</td>\n",
              "      <td>sedan</td>\n",
              "      <td>99.8</td>\n",
              "      <td>176.6</td>\n",
              "      <td>ohc</td>\n",
              "      <td>four</td>\n",
              "      <td>102</td>\n",
              "      <td>24</td>\n",
              "      <td>13950.0</td>\n",
              "    </tr>\n",
              "    <tr>\n",
              "      <th>4</th>\n",
              "      <td>audi</td>\n",
              "      <td>sedan</td>\n",
              "      <td>99.4</td>\n",
              "      <td>176.6</td>\n",
              "      <td>ohc</td>\n",
              "      <td>five</td>\n",
              "      <td>115</td>\n",
              "      <td>18</td>\n",
              "      <td>17450.0</td>\n",
              "    </tr>\n",
              "  </tbody>\n",
              "</table>\n",
              "</div>"
            ],
            "text/plain": [
              "           company   body-style  wheel-base  length engine-type  \\\n",
              "index                                                             \n",
              "0      alfa-romero  convertible        88.6   168.8        dohc   \n",
              "1      alfa-romero  convertible        88.6   168.8        dohc   \n",
              "2      alfa-romero    hatchback        94.5   171.2        ohcv   \n",
              "3             audi        sedan        99.8   176.6         ohc   \n",
              "4             audi        sedan        99.4   176.6         ohc   \n",
              "\n",
              "      num-of-cylinders  horsepower  average-mileage    price  \n",
              "index                                                         \n",
              "0                 four         111               21  13495.0  \n",
              "1                 four         111               21  16500.0  \n",
              "2                  six         154               19  16500.0  \n",
              "3                 four         102               24  13950.0  \n",
              "4                 five         115               18  17450.0  "
            ]
          },
          "execution_count": 17,
          "metadata": {},
          "output_type": "execute_result"
        }
      ],
      "source": [
        "df = pd.read_csv(\"https://github.com/anvarnarz/praktikum_datasets/raw/main/automobile_data.csv\", index_col=0)\n",
        "df.head()"
      ]
    },
    {
      "cell_type": "markdown",
      "id": "b1dcd6d5-97d1-4b05-8833-a5150b4aaf29",
      "metadata": {
        "id": "b1dcd6d5-97d1-4b05-8833-a5150b4aaf29"
      },
      "source": [
        "Yuqoridagi jadvalda turli avtolarning narxi ko'rsatilgan, keling ularni ham oraliqlarga bo'lamiz. Avval eng arzon va qimmat mashinalarni ajratib olaylik:"
      ]
    },
    {
      "cell_type": "code",
      "execution_count": null,
      "id": "300aa7e8-4bc0-4979-984d-40ae3e805769",
      "metadata": {
        "id": "300aa7e8-4bc0-4979-984d-40ae3e805769",
        "outputId": "84030816-22b1-4ab7-b33d-e4e700d1ea7e"
      },
      "outputs": [
        {
          "data": {
            "text/plain": [
              "count       58.000000\n",
              "mean     15387.000000\n",
              "std      11320.259841\n",
              "min       5151.000000\n",
              "25%       6808.500000\n",
              "50%      11095.000000\n",
              "75%      18120.500000\n",
              "max      45400.000000\n",
              "Name: price, dtype: float64"
            ]
          },
          "execution_count": 18,
          "metadata": {},
          "output_type": "execute_result"
        }
      ],
      "source": [
        "df.price.describe()"
      ]
    },
    {
      "cell_type": "code",
      "execution_count": null,
      "id": "d0db6d29-4d96-48c5-b0f1-809436605f54",
      "metadata": {
        "id": "d0db6d29-4d96-48c5-b0f1-809436605f54"
      },
      "outputs": [],
      "source": [
        "bins = [0, 10000, 20000, 50000]"
      ]
    },
    {
      "cell_type": "code",
      "execution_count": null,
      "id": "4c2d2ad5-f325-4ec5-b85e-8c0cdf3985b3",
      "metadata": {
        "id": "4c2d2ad5-f325-4ec5-b85e-8c0cdf3985b3"
      },
      "outputs": [],
      "source": [
        "range = pd.cut(df.price, bins)"
      ]
    },
    {
      "cell_type": "code",
      "execution_count": null,
      "id": "54fe5aad-f93e-49c8-b865-91bacc2408e9",
      "metadata": {
        "id": "54fe5aad-f93e-49c8-b865-91bacc2408e9",
        "outputId": "205238c2-3ce7-4eef-9dcf-ef362ed53039"
      },
      "outputs": [
        {
          "data": {
            "text/plain": [
              "(0, 10000]        28\n",
              "(10000, 20000]    17\n",
              "(20000, 50000]    13\n",
              "Name: price, dtype: int64"
            ]
          },
          "execution_count": 21,
          "metadata": {},
          "output_type": "execute_result"
        }
      ],
      "source": [
        "range.value_counts()"
      ]
    },
    {
      "cell_type": "markdown",
      "id": "0c7ee000-22c7-4a37-98c8-aaee9c421b2b",
      "metadata": {
        "id": "0c7ee000-22c7-4a37-98c8-aaee9c421b2b"
      },
      "source": [
        "Tushunarli bo'lishi uchun biz bu oraliqlarga nom ham berishimiz mumkin:"
      ]
    },
    {
      "cell_type": "code",
      "execution_count": null,
      "id": "65fc31b4-de89-4dd9-816c-e6dc0ea393db",
      "metadata": {
        "id": "65fc31b4-de89-4dd9-816c-e6dc0ea393db",
        "outputId": "0d6273d3-2822-4ed8-dbe5-377e5e9b51f2"
      },
      "outputs": [
        {
          "data": {
            "text/plain": [
              "arzon     28\n",
              "o'rta     17\n",
              "qimmat    13\n",
              "Name: price, dtype: int64"
            ]
          },
          "execution_count": 22,
          "metadata": {},
          "output_type": "execute_result"
        }
      ],
      "source": [
        "groups = [\"arzon\", \"o'rta\", \"qimmat\"]\n",
        "range = pd.cut(df.price, bins, labels=groups)\n",
        "range.value_counts()"
      ]
    },
    {
      "cell_type": "markdown",
      "id": "bff65f32-114b-4ea6-a9d8-da78d84ddfec",
      "metadata": {
        "id": "bff65f32-114b-4ea6-a9d8-da78d84ddfec"
      },
      "source": [
        "Yuqorida misollarda biz `bins` nomli o'zgaruvchi yaratib oldik va guruhlarga o'zimiz ajratdik. Agar bu jarayonni avtomatlashtirishni istasangiz, `bins` ro'yxati o'rtniga nechta guruh kerak ekanligini ko'rsatsangiz kifoya:"
      ]
    },
    {
      "cell_type": "code",
      "execution_count": null,
      "id": "62ee1c7f-f1af-46c5-99d8-1fa28a26b9f0",
      "metadata": {
        "id": "62ee1c7f-f1af-46c5-99d8-1fa28a26b9f0",
        "outputId": "dd009d1b-b61a-4726-a436-a3601b7411fe"
      },
      "outputs": [
        {
          "data": {
            "text/plain": [
              "(5110.751, 18567.333]     44\n",
              "(31983.667, 45400.0]       9\n",
              "(18567.333, 31983.667]     5\n",
              "Name: price, dtype: int64"
            ]
          },
          "execution_count": 23,
          "metadata": {},
          "output_type": "execute_result"
        }
      ],
      "source": [
        "range = pd.cut(df.price, 3)\n",
        "range.value_counts()"
      ]
    },
    {
      "cell_type": "markdown",
      "id": "130cf81b-6d6a-4276-a294-438a9ef981a2",
      "metadata": {
        "id": "130cf81b-6d6a-4276-a294-438a9ef981a2"
      },
      "source": [
        "Ko'rib turganingizdek, yuqorida biz qiymatlarni 3 ta guruhga ajratishni so'radik va biznkidan farqli natijani oldik."
      ]
    },
    {
      "cell_type": "code",
      "execution_count": null,
      "id": "5c740516-a4e1-4af8-8a44-477b419529fa",
      "metadata": {
        "id": "5c740516-a4e1-4af8-8a44-477b419529fa",
        "outputId": "169adc3b-94ba-4b26-9f48-4c9d84136747"
      },
      "outputs": [
        {
          "data": {
            "text/plain": [
              "(5110.751, 15213.25]    36\n",
              "(15213.25, 25275.5]     10\n",
              "(35337.75, 45400.0]      7\n",
              "(25275.5, 35337.75]      5\n",
              "Name: price, dtype: int64"
            ]
          },
          "execution_count": 24,
          "metadata": {},
          "output_type": "execute_result"
        }
      ],
      "source": [
        "range = pd.cut(df.price, 4)\n",
        "range.value_counts()"
      ]
    },
    {
      "cell_type": "markdown",
      "id": "1d9c0a40-0a1f-4aec-8f05-e02c16d45668",
      "metadata": {
        "id": "1d9c0a40-0a1f-4aec-8f05-e02c16d45668"
      },
      "source": [
        "Agar sizga qiymatlarni teng a'zolardan iborat guruhga ajratish talab qilinsa, `.qcut()` metodiga murojaat qilasiz:"
      ]
    },
    {
      "cell_type": "code",
      "execution_count": null,
      "id": "13c68022-f912-489e-8506-8f512555fbce",
      "metadata": {
        "id": "13c68022-f912-489e-8506-8f512555fbce",
        "outputId": "b7bb3cae-bc60-4f38-a669-b303947bd13c"
      },
      "outputs": [
        {
          "data": {
            "text/plain": [
              "(5150.999, 7295.0]    20\n",
              "(7295.0, 16430.0]     19\n",
              "(16430.0, 45400.0]    19\n",
              "Name: price, dtype: int64"
            ]
          },
          "execution_count": 25,
          "metadata": {},
          "output_type": "execute_result"
        }
      ],
      "source": [
        "range = pd.qcut(df.price, 3)\n",
        "range.value_counts()"
      ]
    },
    {
      "cell_type": "code",
      "execution_count": null,
      "id": "f0ba6943-ad3f-4e00-8a16-d2bf712948fc",
      "metadata": {
        "id": "f0ba6943-ad3f-4e00-8a16-d2bf712948fc",
        "outputId": "9c6c3d14-a344-46c1-cfac-9f7be3f7e911"
      },
      "outputs": [
        {
          "data": {
            "text/plain": [
              "(47.999, 70.0]    24\n",
              "(111.0, 288.0]    20\n",
              "(70.0, 111.0]     17\n",
              "Name: horsepower, dtype: int64"
            ]
          },
          "execution_count": 26,
          "metadata": {},
          "output_type": "execute_result"
        }
      ],
      "source": [
        "range = pd.qcut(df.horsepower, 3)\n",
        "range.value_counts()"
      ]
    }
  ],
  "metadata": {
    "language_info": {
      "codemirror_mode": {
        "name": "ipython",
        "version": 3
      },
      "file_extension": ".py",
      "mimetype": "text/x-python",
      "name": "python",
      "nbconvert_exporter": "python",
      "pygments_lexer": "ipython3",
      "version": "3.8.8"
    },
    "colab": {
      "provenance": [],
      "include_colab_link": true
    }
  },
  "nbformat": 4,
  "nbformat_minor": 5
}