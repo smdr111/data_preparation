{
  "cells": [
    {
      "cell_type": "markdown",
      "metadata": {
        "id": "view-in-github",
        "colab_type": "text"
      },
      "source": [
        "<a href=\"https://colab.research.google.com/github/smdr111/data_preparation/blob/main/03_DATAWRANGLE_11_datetime.ipynb\" target=\"_parent\"><img src=\"https://colab.research.google.com/assets/colab-badge.svg\" alt=\"Open In Colab\"/></a>"
      ]
    },
    {
      "cell_type": "markdown",
      "id": "e1ff222b-01e0-4d3c-9b61-af3c41684762",
      "metadata": {
        "id": "e1ff222b-01e0-4d3c-9b61-af3c41684762"
      },
      "source": [
        "![Imgur](https://i.imgur.com/5pXzCIu.png)\n",
        "\n",
        "# Data Science va Sun'iy Intellekt Praktikum\n",
        "\n",
        "## 3-MODUL. MA’LUMOTLARGA ISHLOV BERISH\n",
        "\n",
        "### 3.2 Ma'lumotlarni tozalash va tayyorlash\n",
        "\n",
        "## Sanalar bilan ishlash"
      ]
    },
    {
      "cell_type": "code",
      "execution_count": null,
      "id": "4e937447-5e3b-472a-b5ca-c90674a1e9be",
      "metadata": {
        "id": "4e937447-5e3b-472a-b5ca-c90674a1e9be"
      },
      "outputs": [],
      "source": [
        "import pandas as pd\n",
        "import numpy as np"
      ]
    },
    {
      "cell_type": "markdown",
      "id": "3ad0d387-e358-41bf-a1cf-50094b37bae8",
      "metadata": {
        "id": "3ad0d387-e358-41bf-a1cf-50094b37bae8"
      },
      "source": [
        "Pythonda sanalar bilan ishlash uchun maxsus `datetime` kutubxonasi mavjud."
      ]
    },
    {
      "cell_type": "code",
      "execution_count": null,
      "id": "a4a76861-2875-476c-9568-fc2ab63b5862",
      "metadata": {
        "id": "a4a76861-2875-476c-9568-fc2ab63b5862"
      },
      "outputs": [],
      "source": [
        "import datetime as dt"
      ]
    },
    {
      "cell_type": "markdown",
      "id": "9264bae9-ada3-4555-81f0-25fc8d12f0bf",
      "metadata": {
        "id": "9264bae9-ada3-4555-81f0-25fc8d12f0bf"
      },
      "source": [
        "Biz bu kutubxona bilan [Dasturlash asoslari kursimizda](https://python.sariq.dev/last-words/38-python-library#datetime-sana-va-vaqt) batafsil gaplashganimiz sababi ushbu darsimizda bevosita jadvallar va ulardagi sanalarni to'g'ri o'qishni o'rganamiz.\n",
        "\n",
        "Keling darsimiz uchun kerakli ma'lumotlarni yuklab olamiz. Quyidagi jadvalda 1965-2016 yillar oralig'idagi zilzilalar haqida ma'lumotlar jamlangan."
      ]
    },
    {
      "cell_type": "code",
      "execution_count": null,
      "id": "58b07b75-38a2-4e48-bb59-f1cfdede71d6",
      "metadata": {
        "id": "58b07b75-38a2-4e48-bb59-f1cfdede71d6",
        "outputId": "1d148799-da64-4383-bd71-9f619a51ef2f"
      },
      "outputs": [
        {
          "data": {
            "text/html": [
              "<div>\n",
              "<style scoped>\n",
              "    .dataframe tbody tr th:only-of-type {\n",
              "        vertical-align: middle;\n",
              "    }\n",
              "\n",
              "    .dataframe tbody tr th {\n",
              "        vertical-align: top;\n",
              "    }\n",
              "\n",
              "    .dataframe thead th {\n",
              "        text-align: right;\n",
              "    }\n",
              "</style>\n",
              "<table border=\"1\" class=\"dataframe\">\n",
              "  <thead>\n",
              "    <tr style=\"text-align: right;\">\n",
              "      <th></th>\n",
              "      <th>Date</th>\n",
              "      <th>Time</th>\n",
              "      <th>Latitude</th>\n",
              "      <th>Longitude</th>\n",
              "      <th>Type</th>\n",
              "      <th>Depth</th>\n",
              "      <th>Depth Error</th>\n",
              "      <th>Depth Seismic Stations</th>\n",
              "      <th>Magnitude</th>\n",
              "      <th>Magnitude Type</th>\n",
              "      <th>...</th>\n",
              "      <th>Magnitude Seismic Stations</th>\n",
              "      <th>Azimuthal Gap</th>\n",
              "      <th>Horizontal Distance</th>\n",
              "      <th>Horizontal Error</th>\n",
              "      <th>Root Mean Square</th>\n",
              "      <th>ID</th>\n",
              "      <th>Source</th>\n",
              "      <th>Location Source</th>\n",
              "      <th>Magnitude Source</th>\n",
              "      <th>Status</th>\n",
              "    </tr>\n",
              "  </thead>\n",
              "  <tbody>\n",
              "    <tr>\n",
              "      <th>0</th>\n",
              "      <td>01/02/1965</td>\n",
              "      <td>13:44:18</td>\n",
              "      <td>19.246</td>\n",
              "      <td>145.616</td>\n",
              "      <td>Earthquake</td>\n",
              "      <td>131.6</td>\n",
              "      <td>NaN</td>\n",
              "      <td>NaN</td>\n",
              "      <td>6.0</td>\n",
              "      <td>MW</td>\n",
              "      <td>...</td>\n",
              "      <td>NaN</td>\n",
              "      <td>NaN</td>\n",
              "      <td>NaN</td>\n",
              "      <td>NaN</td>\n",
              "      <td>NaN</td>\n",
              "      <td>ISCGEM860706</td>\n",
              "      <td>ISCGEM</td>\n",
              "      <td>ISCGEM</td>\n",
              "      <td>ISCGEM</td>\n",
              "      <td>Automatic</td>\n",
              "    </tr>\n",
              "    <tr>\n",
              "      <th>1</th>\n",
              "      <td>01/04/1965</td>\n",
              "      <td>11:29:49</td>\n",
              "      <td>1.863</td>\n",
              "      <td>127.352</td>\n",
              "      <td>Earthquake</td>\n",
              "      <td>80.0</td>\n",
              "      <td>NaN</td>\n",
              "      <td>NaN</td>\n",
              "      <td>5.8</td>\n",
              "      <td>MW</td>\n",
              "      <td>...</td>\n",
              "      <td>NaN</td>\n",
              "      <td>NaN</td>\n",
              "      <td>NaN</td>\n",
              "      <td>NaN</td>\n",
              "      <td>NaN</td>\n",
              "      <td>ISCGEM860737</td>\n",
              "      <td>ISCGEM</td>\n",
              "      <td>ISCGEM</td>\n",
              "      <td>ISCGEM</td>\n",
              "      <td>Automatic</td>\n",
              "    </tr>\n",
              "    <tr>\n",
              "      <th>2</th>\n",
              "      <td>01/05/1965</td>\n",
              "      <td>18:05:58</td>\n",
              "      <td>-20.579</td>\n",
              "      <td>-173.972</td>\n",
              "      <td>Earthquake</td>\n",
              "      <td>20.0</td>\n",
              "      <td>NaN</td>\n",
              "      <td>NaN</td>\n",
              "      <td>6.2</td>\n",
              "      <td>MW</td>\n",
              "      <td>...</td>\n",
              "      <td>NaN</td>\n",
              "      <td>NaN</td>\n",
              "      <td>NaN</td>\n",
              "      <td>NaN</td>\n",
              "      <td>NaN</td>\n",
              "      <td>ISCGEM860762</td>\n",
              "      <td>ISCGEM</td>\n",
              "      <td>ISCGEM</td>\n",
              "      <td>ISCGEM</td>\n",
              "      <td>Automatic</td>\n",
              "    </tr>\n",
              "    <tr>\n",
              "      <th>3</th>\n",
              "      <td>01/08/1965</td>\n",
              "      <td>18:49:43</td>\n",
              "      <td>-59.076</td>\n",
              "      <td>-23.557</td>\n",
              "      <td>Earthquake</td>\n",
              "      <td>15.0</td>\n",
              "      <td>NaN</td>\n",
              "      <td>NaN</td>\n",
              "      <td>5.8</td>\n",
              "      <td>MW</td>\n",
              "      <td>...</td>\n",
              "      <td>NaN</td>\n",
              "      <td>NaN</td>\n",
              "      <td>NaN</td>\n",
              "      <td>NaN</td>\n",
              "      <td>NaN</td>\n",
              "      <td>ISCGEM860856</td>\n",
              "      <td>ISCGEM</td>\n",
              "      <td>ISCGEM</td>\n",
              "      <td>ISCGEM</td>\n",
              "      <td>Automatic</td>\n",
              "    </tr>\n",
              "    <tr>\n",
              "      <th>4</th>\n",
              "      <td>01/09/1965</td>\n",
              "      <td>13:32:50</td>\n",
              "      <td>11.938</td>\n",
              "      <td>126.427</td>\n",
              "      <td>Earthquake</td>\n",
              "      <td>15.0</td>\n",
              "      <td>NaN</td>\n",
              "      <td>NaN</td>\n",
              "      <td>5.8</td>\n",
              "      <td>MW</td>\n",
              "      <td>...</td>\n",
              "      <td>NaN</td>\n",
              "      <td>NaN</td>\n",
              "      <td>NaN</td>\n",
              "      <td>NaN</td>\n",
              "      <td>NaN</td>\n",
              "      <td>ISCGEM860890</td>\n",
              "      <td>ISCGEM</td>\n",
              "      <td>ISCGEM</td>\n",
              "      <td>ISCGEM</td>\n",
              "      <td>Automatic</td>\n",
              "    </tr>\n",
              "  </tbody>\n",
              "</table>\n",
              "<p>5 rows × 21 columns</p>\n",
              "</div>"
            ],
            "text/plain": [
              "         Date      Time  Latitude  Longitude        Type  Depth  Depth Error  \\\n",
              "0  01/02/1965  13:44:18    19.246    145.616  Earthquake  131.6          NaN   \n",
              "1  01/04/1965  11:29:49     1.863    127.352  Earthquake   80.0          NaN   \n",
              "2  01/05/1965  18:05:58   -20.579   -173.972  Earthquake   20.0          NaN   \n",
              "3  01/08/1965  18:49:43   -59.076    -23.557  Earthquake   15.0          NaN   \n",
              "4  01/09/1965  13:32:50    11.938    126.427  Earthquake   15.0          NaN   \n",
              "\n",
              "   Depth Seismic Stations  Magnitude Magnitude Type  ...  \\\n",
              "0                     NaN        6.0             MW  ...   \n",
              "1                     NaN        5.8             MW  ...   \n",
              "2                     NaN        6.2             MW  ...   \n",
              "3                     NaN        5.8             MW  ...   \n",
              "4                     NaN        5.8             MW  ...   \n",
              "\n",
              "   Magnitude Seismic Stations  Azimuthal Gap  Horizontal Distance  \\\n",
              "0                         NaN            NaN                  NaN   \n",
              "1                         NaN            NaN                  NaN   \n",
              "2                         NaN            NaN                  NaN   \n",
              "3                         NaN            NaN                  NaN   \n",
              "4                         NaN            NaN                  NaN   \n",
              "\n",
              "   Horizontal Error  Root Mean Square            ID  Source Location Source  \\\n",
              "0               NaN               NaN  ISCGEM860706  ISCGEM          ISCGEM   \n",
              "1               NaN               NaN  ISCGEM860737  ISCGEM          ISCGEM   \n",
              "2               NaN               NaN  ISCGEM860762  ISCGEM          ISCGEM   \n",
              "3               NaN               NaN  ISCGEM860856  ISCGEM          ISCGEM   \n",
              "4               NaN               NaN  ISCGEM860890  ISCGEM          ISCGEM   \n",
              "\n",
              "  Magnitude Source     Status  \n",
              "0           ISCGEM  Automatic  \n",
              "1           ISCGEM  Automatic  \n",
              "2           ISCGEM  Automatic  \n",
              "3           ISCGEM  Automatic  \n",
              "4           ISCGEM  Automatic  \n",
              "\n",
              "[5 rows x 21 columns]"
            ]
          },
          "execution_count": 122,
          "metadata": {},
          "output_type": "execute_result"
        }
      ],
      "source": [
        "df = pd.read_csv(\"https://github.com/anvarnarz/praktikum_datasets/blob/main/global_earthquake.csv?raw=true\")\n",
        "df.head()"
      ]
    },
    {
      "cell_type": "markdown",
      "id": "9f5abee2-51b0-46d4-877c-f8c0d74b3d9f",
      "metadata": {
        "id": "9f5abee2-51b0-46d4-877c-f8c0d74b3d9f"
      },
      "source": [
        "Jadvalning `Date` ustuni zilzila sanasi,  `Time` ustuni esa zilzila vaqtini saqlaydi. Keling bu ustunlardagi ma'lumotlar turini ko'ramiz:"
      ]
    },
    {
      "cell_type": "code",
      "execution_count": null,
      "id": "19981038-6b2f-4f17-ae9d-1c43c30a0a97",
      "metadata": {
        "id": "19981038-6b2f-4f17-ae9d-1c43c30a0a97",
        "outputId": "28819786-7915-48a7-e2a9-bc84174b923c"
      },
      "outputs": [
        {
          "name": "stdout",
          "output_type": "stream",
          "text": [
            "<class 'pandas.core.frame.DataFrame'>\n",
            "RangeIndex: 23409 entries, 0 to 23408\n",
            "Data columns (total 2 columns):\n",
            " #   Column  Non-Null Count  Dtype \n",
            "---  ------  --------------  ----- \n",
            " 0   Date    23409 non-null  object\n",
            " 1   Time    23409 non-null  object\n",
            "dtypes: object(2)\n",
            "memory usage: 365.9+ KB\n"
          ]
        }
      ],
      "source": [
        "df[['Date','Time']].info()"
      ]
    },
    {
      "cell_type": "markdown",
      "id": "6041d228-5c2c-49e8-9ed2-b0c470497d0a",
      "metadata": {
        "id": "6041d228-5c2c-49e8-9ed2-b0c470497d0a"
      },
      "source": [
        "Ahamiyat bering, ikkala ustunning turini `object` deb ko'rsatayapti, `pandas` tilida bu matn degan, vaholanki, `pandas`da sanalar uchun maxsus `datetime64` turi bor.\n",
        "\n",
        "Keling, `Date` ustunini alohida chiqaramiz:"
      ]
    },
    {
      "cell_type": "code",
      "execution_count": null,
      "id": "399b499a-67a1-4671-818f-0ddf8ac89ae3",
      "metadata": {
        "id": "399b499a-67a1-4671-818f-0ddf8ac89ae3",
        "outputId": "e50b4652-09fd-4663-bc07-432f72f16b4c"
      },
      "outputs": [
        {
          "data": {
            "text/html": [
              "<div>\n",
              "<style scoped>\n",
              "    .dataframe tbody tr th:only-of-type {\n",
              "        vertical-align: middle;\n",
              "    }\n",
              "\n",
              "    .dataframe tbody tr th {\n",
              "        vertical-align: top;\n",
              "    }\n",
              "\n",
              "    .dataframe thead th {\n",
              "        text-align: right;\n",
              "    }\n",
              "</style>\n",
              "<table border=\"1\" class=\"dataframe\">\n",
              "  <thead>\n",
              "    <tr style=\"text-align: right;\">\n",
              "      <th></th>\n",
              "      <th>Date</th>\n",
              "    </tr>\n",
              "  </thead>\n",
              "  <tbody>\n",
              "    <tr>\n",
              "      <th>0</th>\n",
              "      <td>01/02/1965</td>\n",
              "    </tr>\n",
              "    <tr>\n",
              "      <th>1</th>\n",
              "      <td>01/04/1965</td>\n",
              "    </tr>\n",
              "    <tr>\n",
              "      <th>2</th>\n",
              "      <td>01/05/1965</td>\n",
              "    </tr>\n",
              "    <tr>\n",
              "      <th>3</th>\n",
              "      <td>01/08/1965</td>\n",
              "    </tr>\n",
              "    <tr>\n",
              "      <th>4</th>\n",
              "      <td>01/09/1965</td>\n",
              "    </tr>\n",
              "  </tbody>\n",
              "</table>\n",
              "</div>"
            ],
            "text/plain": [
              "         Date\n",
              "0  01/02/1965\n",
              "1  01/04/1965\n",
              "2  01/05/1965\n",
              "3  01/08/1965\n",
              "4  01/09/1965"
            ]
          },
          "execution_count": 124,
          "metadata": {},
          "output_type": "execute_result"
        }
      ],
      "source": [
        "df[['Date']].head()"
      ]
    },
    {
      "cell_type": "markdown",
      "id": "2d38bb96-fcc9-4048-9d4f-6778b81ae058",
      "metadata": {
        "id": "2d38bb96-fcc9-4048-9d4f-6778b81ae058"
      },
      "source": [
        "Keling `Date` ustun qiymatlarini to'g'ri ma'lumot turiga aylantirish uchun, avvalo qiymatlarning yozilishiga ahamiyat beramiz.\n",
        "\n",
        "Jadval qiymatlarini `datetime`ga o'tkazish uchun `.to_datetime()` metodiga murojaat qilamiz, bunda biz jadvaldagi sanalr formatini aniq ko'rsatishimiz kerak.\n",
        "\n",
        "Jadval qiymatlari `01/02/1965` ya'ni `oy/kun/yil` ko'rinishida yozilgan. `oy` va `kun` 2 xonali son, `yil` esa 4 xona ko'rinishida berilgan. Demak biz ham qiymatlarni shu ko'rinishda `datetime` formatiga o'tkazishimiz kerak.\n",
        "\n",
        "**Diqqat! Ahamiyat bering, biz O'zbek tilida sanalarni `kun-oy-yil` tartibida yozishga o'rganganmiz, AQShda esa `oy-kun-yil` tartibi qabul qilingan.**\n",
        "\n",
        "Oylarni `%m`, kunlarni `%d`, 4 xonali yilni `%Y` (2 xonali yillar uchun `%y`) deb ko'rsatamiz."
      ]
    },
    {
      "cell_type": "code",
      "execution_count": null,
      "id": "da50ffdf-8ea8-4a1e-ba4f-12a53234d128",
      "metadata": {
        "id": "da50ffdf-8ea8-4a1e-ba4f-12a53234d128",
        "outputId": "bf7495b5-3818-4e60-9082-1d3a3be816b0"
      },
      "outputs": [
        {
          "data": {
            "text/plain": [
              "0       1965-01-02\n",
              "1       1965-01-04\n",
              "2       1965-01-05\n",
              "3       1965-01-08\n",
              "4       1965-01-09\n",
              "           ...    \n",
              "23404   2016-12-28\n",
              "23405   2016-12-28\n",
              "23406   2016-12-28\n",
              "23407   2016-12-29\n",
              "23408   2016-12-30\n",
              "Name: Date, Length: 23409, dtype: datetime64[ns]"
            ]
          },
          "execution_count": 125,
          "metadata": {},
          "output_type": "execute_result"
        }
      ],
      "source": [
        "pd.to_datetime(df['Date'], format=\"%m/%d/%Y\")"
      ]
    },
    {
      "cell_type": "markdown",
      "id": "dc96bec0-219b-4a4e-a1da-788b914140d8",
      "metadata": {
        "id": "dc96bec0-219b-4a4e-a1da-788b914140d8"
      },
      "source": [
        "Ko'rib turganingizdek, qiymatlar `datetime64` formatiga o'tdi. Biz bu qiymatlarni alohida ustunga saqlab olishimiz ham mumkin:"
      ]
    },
    {
      "cell_type": "code",
      "execution_count": null,
      "id": "7bed152f-aafc-4462-bf17-c1bda7659d37",
      "metadata": {
        "id": "7bed152f-aafc-4462-bf17-c1bda7659d37",
        "outputId": "2ae82a32-cfbc-4218-bc8f-6e466140c9dd"
      },
      "outputs": [
        {
          "name": "stdout",
          "output_type": "stream",
          "text": [
            "<class 'pandas.core.frame.DataFrame'>\n",
            "RangeIndex: 23409 entries, 0 to 23408\n",
            "Data columns (total 1 columns):\n",
            " #   Column    Non-Null Count  Dtype         \n",
            "---  ------    --------------  -----         \n",
            " 0   datetime  23409 non-null  datetime64[ns]\n",
            "dtypes: datetime64[ns](1)\n",
            "memory usage: 183.0 KB\n"
          ]
        }
      ],
      "source": [
        "df['datetime'] = pd.to_datetime(df['Date'], format=\"%m/%d/%Y\")\n",
        "df[['datetime']].info()"
      ]
    },
    {
      "cell_type": "markdown",
      "id": "bfef3bf5-0e13-40f2-be58-b6f39908e7c5",
      "metadata": {
        "id": "bfef3bf5-0e13-40f2-be58-b6f39908e7c5"
      },
      "source": [
        "Huddi shu kabi, `Time` ustuniga ham ishlov beramiz:"
      ]
    },
    {
      "cell_type": "code",
      "execution_count": null,
      "id": "2a3daeee-4189-474d-936d-961a01e79c00",
      "metadata": {
        "id": "2a3daeee-4189-474d-936d-961a01e79c00",
        "outputId": "6de39465-54f6-444f-8376-927c0d8fd838"
      },
      "outputs": [
        {
          "data": {
            "text/html": [
              "<div>\n",
              "<style scoped>\n",
              "    .dataframe tbody tr th:only-of-type {\n",
              "        vertical-align: middle;\n",
              "    }\n",
              "\n",
              "    .dataframe tbody tr th {\n",
              "        vertical-align: top;\n",
              "    }\n",
              "\n",
              "    .dataframe thead th {\n",
              "        text-align: right;\n",
              "    }\n",
              "</style>\n",
              "<table border=\"1\" class=\"dataframe\">\n",
              "  <thead>\n",
              "    <tr style=\"text-align: right;\">\n",
              "      <th></th>\n",
              "      <th>Time</th>\n",
              "    </tr>\n",
              "  </thead>\n",
              "  <tbody>\n",
              "    <tr>\n",
              "      <th>0</th>\n",
              "      <td>13:44:18</td>\n",
              "    </tr>\n",
              "    <tr>\n",
              "      <th>1</th>\n",
              "      <td>11:29:49</td>\n",
              "    </tr>\n",
              "    <tr>\n",
              "      <th>2</th>\n",
              "      <td>18:05:58</td>\n",
              "    </tr>\n",
              "    <tr>\n",
              "      <th>3</th>\n",
              "      <td>18:49:43</td>\n",
              "    </tr>\n",
              "    <tr>\n",
              "      <th>4</th>\n",
              "      <td>13:32:50</td>\n",
              "    </tr>\n",
              "  </tbody>\n",
              "</table>\n",
              "</div>"
            ],
            "text/plain": [
              "       Time\n",
              "0  13:44:18\n",
              "1  11:29:49\n",
              "2  18:05:58\n",
              "3  18:49:43\n",
              "4  13:32:50"
            ]
          },
          "execution_count": 127,
          "metadata": {},
          "output_type": "execute_result"
        }
      ],
      "source": [
        "df[['Time']].head()"
      ]
    },
    {
      "cell_type": "code",
      "execution_count": null,
      "id": "0d85ca23-3713-48e3-a5ee-d7b4290db0b0",
      "metadata": {
        "id": "0d85ca23-3713-48e3-a5ee-d7b4290db0b0",
        "outputId": "9abce0a1-a6ac-4b18-dbb4-03aef079f217"
      },
      "outputs": [
        {
          "data": {
            "text/plain": [
              "0       1900-01-01 13:44:18\n",
              "1       1900-01-01 11:29:49\n",
              "2       1900-01-01 18:05:58\n",
              "3       1900-01-01 18:49:43\n",
              "4       1900-01-01 13:32:50\n",
              "                ...        \n",
              "23404   1900-01-01 08:22:12\n",
              "23405   1900-01-01 09:13:47\n",
              "23406   1900-01-01 12:38:51\n",
              "23407   1900-01-01 22:30:19\n",
              "23408   1900-01-01 20:08:28\n",
              "Name: Time, Length: 23409, dtype: datetime64[ns]"
            ]
          },
          "execution_count": 82,
          "metadata": {},
          "output_type": "execute_result"
        }
      ],
      "source": [
        "pd.to_datetime(df['Time'], format=\"%H:%M:%S\")"
      ]
    },
    {
      "cell_type": "markdown",
      "id": "856fb4a0-4212-4eba-ade1-879927de8789",
      "metadata": {
        "id": "856fb4a0-4212-4eba-ade1-879927de8789"
      },
      "source": [
        "Bu safar vaqt bilan birga standart sana `1900-01-01` ham yozilib qoldi. Faqatgina vaqtni filtrlab olish uchun `dt.time` parametrini chaqiramiz.\n",
        "\n",
        "`format` parametrini to'g'ri yozish uchun quyidagi jadvladan foydalaning: https://strftime.org/"
      ]
    },
    {
      "cell_type": "code",
      "execution_count": null,
      "id": "b79a5d01-fd03-4d46-bc37-6c4877ccbdf1",
      "metadata": {
        "id": "b79a5d01-fd03-4d46-bc37-6c4877ccbdf1",
        "outputId": "bd4cf93c-1bca-494c-b66d-d68bfb4fd28b"
      },
      "outputs": [
        {
          "data": {
            "text/plain": [
              "0        13:44:18\n",
              "1        11:29:49\n",
              "2        18:05:58\n",
              "3        18:49:43\n",
              "4        13:32:50\n",
              "           ...   \n",
              "23404    08:22:12\n",
              "23405    09:13:47\n",
              "23406    12:38:51\n",
              "23407    22:30:19\n",
              "23408    20:08:28\n",
              "Name: Time, Length: 23409, dtype: object"
            ]
          },
          "execution_count": 128,
          "metadata": {},
          "output_type": "execute_result"
        }
      ],
      "source": [
        "pd.to_datetime(df['Time'], format=\"%H:%M:%S\").dt.time"
      ]
    },
    {
      "cell_type": "markdown",
      "id": "7414e213-212d-4f24-80ee-420193a23d5a",
      "metadata": {
        "id": "7414e213-212d-4f24-80ee-420193a23d5a"
      },
      "source": [
        "Saqlab olamiz"
      ]
    },
    {
      "cell_type": "code",
      "execution_count": null,
      "id": "9bcfbf0f-97d9-4279-8acf-d4bba381b8cb",
      "metadata": {
        "id": "9bcfbf0f-97d9-4279-8acf-d4bba381b8cb"
      },
      "outputs": [],
      "source": [
        "df['Time'] = pd.to_datetime(df['Time'], format=\"%H:%M:%S\").dt.time"
      ]
    },
    {
      "cell_type": "markdown",
      "id": "d18f38f8-ed67-40aa-bded-922ce0dd549d",
      "metadata": {
        "id": "d18f38f8-ed67-40aa-bded-922ce0dd549d"
      },
      "source": [
        "Biror qiymatni chaqirib ko'ramiz:"
      ]
    },
    {
      "cell_type": "code",
      "execution_count": null,
      "id": "e0111cf2-1817-44ed-97b1-15956ca78c52",
      "metadata": {
        "id": "e0111cf2-1817-44ed-97b1-15956ca78c52",
        "outputId": "4b189f6a-c33c-47d2-e882-2c4c4a3656de"
      },
      "outputs": [
        {
          "data": {
            "text/plain": [
              "datetime.time(13, 44, 18)"
            ]
          },
          "execution_count": 140,
          "metadata": {},
          "output_type": "execute_result"
        }
      ],
      "source": [
        "df.at[0,'Time']"
      ]
    },
    {
      "cell_type": "markdown",
      "id": "74b46feb-e08a-4bb4-a84b-a0f26920e1cb",
      "metadata": {
        "id": "74b46feb-e08a-4bb4-a84b-a0f26920e1cb"
      },
      "source": [
        "Istasak vaqtdan soatlarni yoki minutlarni ham ajratib olishimiz mumkin:"
      ]
    },
    {
      "cell_type": "code",
      "execution_count": null,
      "id": "b4c16551-f705-4c29-9904-db9707c8f664",
      "metadata": {
        "id": "b4c16551-f705-4c29-9904-db9707c8f664",
        "outputId": "1f96ff01-0760-4285-c80a-323aedeb3b7d"
      },
      "outputs": [
        {
          "data": {
            "text/plain": [
              "13"
            ]
          },
          "execution_count": 145,
          "metadata": {},
          "output_type": "execute_result"
        }
      ],
      "source": [
        "df.at[0,'Time'].hour"
      ]
    },
    {
      "cell_type": "code",
      "execution_count": null,
      "id": "dc9361bf-75d4-4c34-9ce2-dc617537913a",
      "metadata": {
        "id": "dc9361bf-75d4-4c34-9ce2-dc617537913a",
        "outputId": "d7dc1df9-843a-4820-dadb-393d1af6e7c0"
      },
      "outputs": [
        {
          "data": {
            "text/plain": [
              "Timestamp('1965-01-02 00:00:00')"
            ]
          },
          "execution_count": 99,
          "metadata": {},
          "output_type": "execute_result"
        }
      ],
      "source": [
        "df.at[0,'datetime']"
      ]
    },
    {
      "cell_type": "markdown",
      "id": "7873bcaf-3e2e-44c1-98af-000876b9abdc",
      "metadata": {
        "id": "7873bcaf-3e2e-44c1-98af-000876b9abdc"
      },
      "source": [
        "Yuqoridagi o'zgarishlardan so'ng `datetime` fromatidagi qiymatlar bilan ishlash ishimizni ancha osonlashtiradi. Misol uchun, biz zilzilalar qaysi oylarda bo'lganini ajratib olishimiz mumkin:"
      ]
    },
    {
      "cell_type": "code",
      "execution_count": null,
      "id": "34c51fb5-1f59-440f-8e0e-1de0f88ac871",
      "metadata": {
        "id": "34c51fb5-1f59-440f-8e0e-1de0f88ac871",
        "outputId": "08cb8dde-6294-4514-e356-11ea5e19ef54"
      },
      "outputs": [
        {
          "data": {
            "text/plain": [
              "0         1\n",
              "1         1\n",
              "2         1\n",
              "3         1\n",
              "4         1\n",
              "         ..\n",
              "23404    12\n",
              "23405    12\n",
              "23406    12\n",
              "23407    12\n",
              "23408    12\n",
              "Name: datetime, Length: 23409, dtype: int64"
            ]
          },
          "execution_count": 101,
          "metadata": {},
          "output_type": "execute_result"
        }
      ],
      "source": [
        "df['datetime'].dt.month"
      ]
    },
    {
      "cell_type": "markdown",
      "id": "53457446-5296-4714-9c3a-9fc94142e2d4",
      "metadata": {
        "id": "53457446-5296-4714-9c3a-9fc94142e2d4"
      },
      "source": [
        "Qiymatlarni alohiuda ustunga saqlab olib, ma'lumotlar tahllida ham ishlatish mumkin:"
      ]
    },
    {
      "cell_type": "code",
      "execution_count": null,
      "id": "65062d3e-be0a-4879-9380-c14ab3042d51",
      "metadata": {
        "id": "65062d3e-be0a-4879-9380-c14ab3042d51"
      },
      "outputs": [],
      "source": [
        "df['Month'] = df['datetime'].dt.month"
      ]
    },
    {
      "cell_type": "markdown",
      "id": "f290a44b-d423-4d83-968a-6df769854760",
      "metadata": {
        "id": "f290a44b-d423-4d83-968a-6df769854760"
      },
      "source": [
        "Keling qaysi oylarda eng ko'p zilzila bo'lishini kuzatilganini ko'ramiz:"
      ]
    },
    {
      "cell_type": "code",
      "execution_count": null,
      "id": "d1ca7a88-509d-453b-aedf-0d935cec114a",
      "metadata": {
        "id": "d1ca7a88-509d-453b-aedf-0d935cec114a",
        "outputId": "796e6c10-a748-4880-9974-37af84e3ccac"
      },
      "outputs": [
        {
          "data": {
            "text/plain": [
              "3     2113\n",
              "8     2014\n",
              "12    2001\n",
              "11    1987\n",
              "9     1985\n",
              "4     1970\n",
              "5     1964\n",
              "10    1952\n",
              "1     1891\n",
              "7     1880\n",
              "2     1828\n",
              "6     1824\n",
              "Name: Month, dtype: int64"
            ]
          },
          "execution_count": 108,
          "metadata": {},
          "output_type": "execute_result"
        }
      ],
      "source": [
        "df['Month'].value_counts()"
      ]
    },
    {
      "cell_type": "markdown",
      "id": "01cbfa18-3e85-43e6-b2fd-03716c5639c3",
      "metadata": {
        "id": "01cbfa18-3e85-43e6-b2fd-03716c5639c3"
      },
      "source": [
        "Yuqoridan eng ko'p zilzilalar Mart oyida (`2113` ta) eng kami esa Iyun oyida (`1824` ta) kuzatilganini ko'rishimiz mumkin."
      ]
    },
    {
      "cell_type": "markdown",
      "id": "e00c8aac-e27c-4870-a45f-7412f5319e07",
      "metadata": {
        "id": "e00c8aac-e27c-4870-a45f-7412f5319e07"
      },
      "source": [
        "### Savol: Zilzilalarning aksari haftaning qaysi kuniga to'g'ri kelishini chiqaring"
      ]
    },
    {
      "cell_type": "code",
      "execution_count": null,
      "id": "36251014-664c-4089-8d6e-532f42b9b59a",
      "metadata": {
        "id": "36251014-664c-4089-8d6e-532f42b9b59a",
        "outputId": "b14a84bc-c86d-4719-b3a5-986f131ceb4c"
      },
      "outputs": [
        {
          "data": {
            "text/plain": [
              "5    3433\n",
              "2    3431\n",
              "4    3362\n",
              "0    3349\n",
              "3    3306\n",
              "6    3284\n",
              "1    3244\n",
              "Name: datetime, dtype: int64"
            ]
          },
          "execution_count": 119,
          "metadata": {},
          "output_type": "execute_result"
        }
      ],
      "source": [
        "df['datetime'].dt.weekday.value_counts()"
      ]
    }
  ],
  "metadata": {
    "language_info": {
      "codemirror_mode": {
        "name": "ipython",
        "version": 3
      },
      "file_extension": ".py",
      "mimetype": "text/x-python",
      "name": "python",
      "nbconvert_exporter": "python",
      "pygments_lexer": "ipython3",
      "version": "3.8.8"
    },
    "colab": {
      "provenance": [],
      "include_colab_link": true
    }
  },
  "nbformat": 4,
  "nbformat_minor": 5
}